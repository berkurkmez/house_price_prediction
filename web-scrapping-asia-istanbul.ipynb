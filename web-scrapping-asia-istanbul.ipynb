{
 "cells": [
  {
   "cell_type": "code",
   "execution_count": 2,
   "metadata": {},
   "outputs": [],
   "source": [
    "from bs4 import BeautifulSoup as bts\n",
    "import requests\n",
    "import pandas as pd"
   ]
  },
  {
   "cell_type": "code",
   "execution_count": 3,
   "metadata": {},
   "outputs": [],
   "source": [
    "#function for url html codes\n",
    "def getAndParseURL(url):\n",
    "    result = requests.get(url,headers={\"User-Agent\": \"Mozilla/5.0\"})\n",
    "    soup = bts(result.text, \"html.parser\")\n",
    "    return soup"
   ]
  },
  {
   "cell_type": "code",
   "execution_count": null,
   "metadata": {},
   "outputs": [],
   "source": [
    "#this is a try for html codes\n",
    "getAndParseURL(\"https://www.zingat.com/maltepe-satilik\")"
   ]
  },
  {
   "cell_type": "code",
   "execution_count": 4,
   "metadata": {},
   "outputs": [],
   "source": [
    "#lat page number/last page number can be find buttom of the page\n",
    "def lastPageNumber(url):\n",
    "    soup = getAndParseURL(url)\n",
    "    last_page_number = soup.find(\"span\", {'class':\"zng-pagination-link-text zng-pagination-mobile-visible\"}).text.split(\" \")[2]\n",
    "    return last_page_number"
   ]
  },
  {
   "cell_type": "code",
   "execution_count": 5,
   "metadata": {},
   "outputs": [
    {
     "data": {
      "text/plain": [
       "'48'"
      ]
     },
     "execution_count": 5,
     "metadata": {},
     "output_type": "execute_result"
    }
   ],
   "source": [
    "lastPageNumber(\"https://www.zingat.com/kadikoy-satilik\")"
   ]
  },
  {
   "cell_type": "code",
   "execution_count": 13,
   "metadata": {},
   "outputs": [],
   "source": [
    "link_list = []\n",
    "def createLinkList(url):\n",
    "    for link in range (1,int(lastPageNumber(url))+1):\n",
    "        link_list.append(url+ \"?page=\" +str(link))"
   ]
  },
  {
   "cell_type": "code",
   "execution_count": 14,
   "metadata": {},
   "outputs": [],
   "source": [
    "createLinkList(\"https://www.zingat.com/kadikoy-satilik\")"
   ]
  },
  {
   "cell_type": "code",
   "execution_count": 15,
   "metadata": {},
   "outputs": [
    {
     "data": {
      "text/plain": [
       "48"
      ]
     },
     "execution_count": 15,
     "metadata": {},
     "output_type": "execute_result"
    }
   ],
   "source": [
    "len(link_list)"
   ]
  },
  {
   "cell_type": "code",
   "execution_count": 17,
   "metadata": {},
   "outputs": [],
   "source": [
    "createLinkList(\"https://www.zingat.com/kadikoy-satilik\")\n",
    "createLinkList(\"https://www.zingat.com/maltepe-satilik\")\n",
    "createLinkList(\"https://www.zingat.com/uskudar-satilik\")\n",
    "createLinkList(\"https://www.zingat.com/kartal-satilik\")\n",
    "createLinkList(\"https://www.zingat.com/umraniye-satilik\")\n",
    "createLinkList(\"https://www.zingat.com/atasehir-satilik\")\n",
    "createLinkList(\"https://www.zingat.com/adalar-satilik\")\n",
    "createLinkList(\"https://www.zingat.com/beykoz-satilik\")\n",
    "createLinkList(\"https://www.zingat.com/cekmekoy-satilik\")\n",
    "createLinkList(\"https://www.zingat.com/pendik-satilik\")\n",
    "createLinkList(\"https://www.zingat.com/sancaktepe-satilik\")\n",
    "createLinkList(\"https://www.zingat.com/sultanbeyli-satilik\")\n",
    "createLinkList(\"https://www.zingat.com/sile-satilik\")\n",
    "createLinkList(\"https://www.zingat.com/tuzla-satilik\")"
   ]
  },
  {
   "cell_type": "code",
   "execution_count": 18,
   "metadata": {},
   "outputs": [
    {
     "data": {
      "text/plain": [
       "490"
      ]
     },
     "execution_count": 18,
     "metadata": {},
     "output_type": "execute_result"
    }
   ],
   "source": [
    "len(link_list)"
   ]
  },
  {
   "cell_type": "code",
   "execution_count": 94,
   "metadata": {},
   "outputs": [],
   "source": [
    "TITLE = []\n",
    "PRICE = []\n",
    "LOCATION = []\n",
    "AREA = []\n",
    "ROOM = []\n",
    "\n",
    "for products in link_list[::]:\n",
    "    soups = getAndParseURL(products)\n",
    "\n",
    "    for title in soups.find_all(\"div\", {'class':\"zlc-title\"}):\n",
    "        TITLE.append(title.text.split(\"\\n\")[0])\n",
    "\n",
    "    for price in soups.find_all(\"div\",{\"class\":\"feature-item feature-price\"}):\n",
    "        PRICE.append(int(price.text.split(\" \")[0].replace(\".\",\"\")))\n",
    "\n",
    "    for location in soups.find_all(\"div\",{\"class\":\"zlc-location\"}):\n",
    "        LOCATION.append(location.text.split(\"\\n\")[1])\n",
    "\n",
    "    for area in soups.find_all(\"div\",{\"class\":\"zlc-tags\"}):\n",
    "        AREA.append(area.text.split(\"\\n\")[1])\n",
    "\n",
    "    for room in soups.find_all(\"div\",{\"class\":\"zlc-tags\"}):\n",
    "        ROOM.append(room.text.split(\"\\n\")[0])"
   ]
  },
  {
   "cell_type": "code",
   "execution_count": null,
   "metadata": {},
   "outputs": [],
   "source": [
    "df = pd.DataFrame(list(zip(TITLE, PRICE, LOCATION, ROOM, AREA)), columns=[\"TITLE\", \"PRICE\", \"LOCATION\", \"ROOM\", \"AREA\"])"
   ]
  },
  {
   "cell_type": "code",
   "execution_count": null,
   "metadata": {},
   "outputs": [],
   "source": [
    "df.to_csv(r'file location\\all_location_in_asia.csv', index=False)"
   ]
  }
 ],
 "metadata": {
  "kernelspec": {
   "display_name": "Python 3.9.7 ('venv1')",
   "language": "python",
   "name": "python3"
  },
  "language_info": {
   "codemirror_mode": {
    "name": "ipython",
    "version": 3
   },
   "file_extension": ".py",
   "mimetype": "text/x-python",
   "name": "python",
   "nbconvert_exporter": "python",
   "pygments_lexer": "ipython3",
   "version": "3.9.7"
  },
  "orig_nbformat": 4,
  "vscode": {
   "interpreter": {
    "hash": "1da570c2b0d2a224a1bddf8bd2377c99d37b463eabee8025b951933d876c4b3c"
   }
  }
 },
 "nbformat": 4,
 "nbformat_minor": 2
}
